{
 "cells": [
  {
   "cell_type": "code",
   "execution_count": 42,
   "id": "c56cbe1e",
   "metadata": {},
   "outputs": [],
   "source": [
    "import pandas as pd\n",
    "import numpy as np\n",
    "import matplotlib.pyplot as plt\n",
    "import seaborn as sns"
   ]
  },
  {
   "cell_type": "code",
   "execution_count": 43,
   "id": "175ef996",
   "metadata": {},
   "outputs": [
    {
     "data": {
      "text/plain": [
       "10.677078252031311"
      ]
     },
     "execution_count": 43,
     "metadata": {},
     "output_type": "execute_result"
    }
   ],
   "source": [
    "desviacion_estandar_esperada =  np.arange(0, 37, 1).std()\n",
    "desviacion_estandar_esperada"
   ]
  },
  {
   "cell_type": "code",
   "execution_count": 44,
   "id": "0e170f0a",
   "metadata": {},
   "outputs": [
    {
     "data": {
      "text/plain": [
       "114.0"
      ]
     },
     "execution_count": 44,
     "metadata": {},
     "output_type": "execute_result"
    }
   ],
   "source": [
    "varianza_esperada = np.arange(0, 37, 1).var()\n",
    "varianza_esperada"
   ]
  },
  {
   "cell_type": "code",
   "execution_count": 45,
   "id": "08f891a4",
   "metadata": {},
   "outputs": [
    {
     "data": {
      "text/plain": [
       "18.0"
      ]
     },
     "execution_count": 45,
     "metadata": {},
     "output_type": "execute_result"
    }
   ],
   "source": [
    "esperanza_matematica_esperada = np.arange(0, 37, 1).mean()\n",
    "esperanza_matematica_esperada"
   ]
  },
  {
   "cell_type": "code",
   "execution_count": 46,
   "id": "0e5683bb",
   "metadata": {},
   "outputs": [
    {
     "data": {
      "text/plain": [
       "array([30,  7, 28, ...,  9,  8,  4])"
      ]
     },
     "execution_count": 46,
     "metadata": {},
     "output_type": "execute_result"
    }
   ],
   "source": [
    "cantidad_tiradas = 10000\n",
    "numero_elegido = 11\n",
    "tiradas = np.random.randint(0, 37, cantidad_tiradas)\n",
    "tiradas"
   ]
  },
  {
   "cell_type": "code",
   "execution_count": 47,
   "id": "5a1ba070",
   "metadata": {},
   "outputs": [
    {
     "data": {
      "application/vnd.microsoft.datawrangler.viewer.v0+json": {
       "columns": [
        {
         "name": "index",
         "rawType": "int64",
         "type": "integer"
        },
        {
         "name": "tiradas",
         "rawType": "int64",
         "type": "integer"
        }
       ],
       "conversionMethod": "pd.DataFrame",
       "ref": "7d9c804b-98a3-45e6-99bb-b7b679ba4d3a",
       "rows": [
        [
         "0",
         "30"
        ],
        [
         "1",
         "7"
        ],
        [
         "2",
         "28"
        ],
        [
         "3",
         "29"
        ],
        [
         "4",
         "5"
        ],
        [
         "5",
         "5"
        ],
        [
         "6",
         "14"
        ],
        [
         "7",
         "28"
        ],
        [
         "8",
         "12"
        ],
        [
         "9",
         "36"
        ],
        [
         "10",
         "20"
        ],
        [
         "11",
         "23"
        ],
        [
         "12",
         "11"
        ],
        [
         "13",
         "17"
        ],
        [
         "14",
         "25"
        ],
        [
         "15",
         "3"
        ],
        [
         "16",
         "4"
        ],
        [
         "17",
         "26"
        ],
        [
         "18",
         "36"
        ],
        [
         "19",
         "12"
        ],
        [
         "20",
         "18"
        ],
        [
         "21",
         "24"
        ],
        [
         "22",
         "18"
        ],
        [
         "23",
         "27"
        ],
        [
         "24",
         "0"
        ],
        [
         "25",
         "28"
        ],
        [
         "26",
         "23"
        ],
        [
         "27",
         "35"
        ],
        [
         "28",
         "34"
        ],
        [
         "29",
         "13"
        ],
        [
         "30",
         "22"
        ],
        [
         "31",
         "3"
        ],
        [
         "32",
         "33"
        ],
        [
         "33",
         "25"
        ],
        [
         "34",
         "21"
        ],
        [
         "35",
         "26"
        ],
        [
         "36",
         "23"
        ],
        [
         "37",
         "23"
        ],
        [
         "38",
         "33"
        ],
        [
         "39",
         "14"
        ],
        [
         "40",
         "30"
        ],
        [
         "41",
         "35"
        ],
        [
         "42",
         "33"
        ],
        [
         "43",
         "32"
        ],
        [
         "44",
         "32"
        ],
        [
         "45",
         "29"
        ],
        [
         "46",
         "36"
        ],
        [
         "47",
         "24"
        ],
        [
         "48",
         "32"
        ],
        [
         "49",
         "29"
        ]
       ],
       "shape": {
        "columns": 1,
        "rows": 10000
       }
      },
      "text/html": [
       "<div>\n",
       "<style scoped>\n",
       "    .dataframe tbody tr th:only-of-type {\n",
       "        vertical-align: middle;\n",
       "    }\n",
       "\n",
       "    .dataframe tbody tr th {\n",
       "        vertical-align: top;\n",
       "    }\n",
       "\n",
       "    .dataframe thead th {\n",
       "        text-align: right;\n",
       "    }\n",
       "</style>\n",
       "<table border=\"1\" class=\"dataframe\">\n",
       "  <thead>\n",
       "    <tr style=\"text-align: right;\">\n",
       "      <th></th>\n",
       "      <th>tiradas</th>\n",
       "    </tr>\n",
       "  </thead>\n",
       "  <tbody>\n",
       "    <tr>\n",
       "      <th>0</th>\n",
       "      <td>30</td>\n",
       "    </tr>\n",
       "    <tr>\n",
       "      <th>1</th>\n",
       "      <td>7</td>\n",
       "    </tr>\n",
       "    <tr>\n",
       "      <th>2</th>\n",
       "      <td>28</td>\n",
       "    </tr>\n",
       "    <tr>\n",
       "      <th>3</th>\n",
       "      <td>29</td>\n",
       "    </tr>\n",
       "    <tr>\n",
       "      <th>4</th>\n",
       "      <td>5</td>\n",
       "    </tr>\n",
       "    <tr>\n",
       "      <th>...</th>\n",
       "      <td>...</td>\n",
       "    </tr>\n",
       "    <tr>\n",
       "      <th>9995</th>\n",
       "      <td>1</td>\n",
       "    </tr>\n",
       "    <tr>\n",
       "      <th>9996</th>\n",
       "      <td>13</td>\n",
       "    </tr>\n",
       "    <tr>\n",
       "      <th>9997</th>\n",
       "      <td>9</td>\n",
       "    </tr>\n",
       "    <tr>\n",
       "      <th>9998</th>\n",
       "      <td>8</td>\n",
       "    </tr>\n",
       "    <tr>\n",
       "      <th>9999</th>\n",
       "      <td>4</td>\n",
       "    </tr>\n",
       "  </tbody>\n",
       "</table>\n",
       "<p>10000 rows × 1 columns</p>\n",
       "</div>"
      ],
      "text/plain": [
       "      tiradas\n",
       "0          30\n",
       "1           7\n",
       "2          28\n",
       "3          29\n",
       "4           5\n",
       "...       ...\n",
       "9995        1\n",
       "9996       13\n",
       "9997        9\n",
       "9998        8\n",
       "9999        4\n",
       "\n",
       "[10000 rows x 1 columns]"
      ]
     },
     "execution_count": 47,
     "metadata": {},
     "output_type": "execute_result"
    }
   ],
   "source": [
    "df = pd.DataFrame()\n",
    "df['tiradas'] = tiradas\n",
    "df"
   ]
  },
  {
   "cell_type": "code",
   "execution_count": 48,
   "id": "c76c7f4e",
   "metadata": {},
   "outputs": [],
   "source": [
    "frec_abs_acumulada = []\n",
    "frec_rel_acumulada = []\n",
    "esp_mat_acumulada = []\n",
    "desv_est_acumulada = []\n",
    "var_acumulada = []\n",
    "\n",
    "cantidad_ocurrencias = 0\n",
    "for index, tirada in enumerate(df['tiradas']):\n",
    "    if tirada == numero_elegido:\n",
    "        cantidad_ocurrencias += 1\n",
    "    frec_abs_acumulada.append(cantidad_ocurrencias)\n",
    "    frec_rel_acumulada.append(cantidad_ocurrencias/(index+1))\n",
    "    esp_mat_acumulada.append(np.mean(df['tiradas'][:index+1]))\n",
    "    desv_est_acumulada.append(np.std(df['tiradas'][:index+1]))\n",
    "    var_acumulada.append(np.var(df['tiradas'][:index+1]))\n",
    "\n",
    "df['frec_abs'] = frec_abs_acumulada\n",
    "df['frec_rel'] = frec_rel_acumulada\n",
    "df['esp_mat'] = esp_mat_acumulada\n",
    "df['desv_est'] = desv_est_acumulada\n",
    "df['var'] = var_acumulada\n",
    "    "
   ]
  },
  {
   "cell_type": "code",
   "execution_count": 49,
   "id": "76742edf",
   "metadata": {},
   "outputs": [
    {
     "data": {
      "application/vnd.microsoft.datawrangler.viewer.v0+json": {
       "columns": [
        {
         "name": "index",
         "rawType": "int64",
         "type": "integer"
        },
        {
         "name": "tiradas",
         "rawType": "int64",
         "type": "integer"
        },
        {
         "name": "frec_abs",
         "rawType": "int64",
         "type": "integer"
        },
        {
         "name": "frec_rel",
         "rawType": "float64",
         "type": "float"
        },
        {
         "name": "esp_mat",
         "rawType": "float64",
         "type": "float"
        },
        {
         "name": "desv_est",
         "rawType": "float64",
         "type": "float"
        },
        {
         "name": "var",
         "rawType": "float64",
         "type": "float"
        }
       ],
       "conversionMethod": "pd.DataFrame",
       "ref": "d59eb7af-2581-4131-939e-13d7c56de78c",
       "rows": [
        [
         "0",
         "30",
         "0",
         "0.0",
         "30.0",
         "0.0",
         "0.0"
        ],
        [
         "1",
         "7",
         "0",
         "0.0",
         "18.5",
         "11.5",
         "132.25"
        ],
        [
         "2",
         "28",
         "0",
         "0.0",
         "21.666666666666668",
         "10.402991022884823",
         "108.22222222222221"
        ],
        [
         "3",
         "29",
         "0",
         "0.0",
         "23.5",
         "9.5524865872714",
         "91.25"
        ],
        [
         "4",
         "5",
         "0",
         "0.0",
         "19.8",
         "11.303096920755832",
         "127.75999999999999"
        ],
        [
         "5",
         "5",
         "0",
         "0.0",
         "17.333333333333332",
         "11.69995251652283",
         "136.88888888888889"
        ],
        [
         "6",
         "14",
         "0",
         "0.0",
         "16.857142857142858",
         "10.894671979964352",
         "118.69387755102039"
        ],
        [
         "7",
         "28",
         "0",
         "0.0",
         "18.25",
         "10.836858400846621",
         "117.4375"
        ],
        [
         "8",
         "12",
         "0",
         "0.0",
         "17.555555555555557",
         "10.404177698417445",
         "108.24691358024693"
        ],
        [
         "9",
         "36",
         "0",
         "0.0",
         "19.4",
         "11.31547612785251",
         "128.04000000000002"
        ],
        [
         "10",
         "20",
         "0",
         "0.0",
         "19.454545454545453",
         "10.790261909060211",
         "116.42975206611571"
        ],
        [
         "11",
         "23",
         "0",
         "0.0",
         "19.75",
         "10.37725879025863",
         "107.6875"
        ],
        [
         "12",
         "11",
         "1",
         "0.07692307692307693",
         "19.076923076923077",
         "10.239152146852321",
         "104.84023668639051"
        ],
        [
         "13",
         "17",
         "1",
         "0.07142857142857142",
         "18.928571428571427",
         "9.881181867673563",
         "97.63775510204081"
        ],
        [
         "14",
         "25",
         "1",
         "0.06666666666666667",
         "19.333333333333332",
         "9.665517173034363",
         "93.42222222222219"
        ],
        [
         "15",
         "3",
         "1",
         "0.0625",
         "18.3125",
         "10.159470643197903",
         "103.21484375"
        ],
        [
         "16",
         "4",
         "1",
         "0.058823529411764705",
         "17.470588235294116",
         "10.415585872419465",
         "108.48442906574394"
        ],
        [
         "17",
         "26",
         "1",
         "0.05555555555555555",
         "17.944444444444443",
         "10.308961701258992",
         "106.27469135802468"
        ],
        [
         "18",
         "36",
         "1",
         "0.05263157894736842",
         "18.894736842105264",
         "10.813708341204817",
         "116.93628808864266"
        ],
        [
         "19",
         "12",
         "1",
         "0.05",
         "18.55",
         "10.646478290965517",
         "113.34750000000001"
        ],
        [
         "20",
         "18",
         "1",
         "0.047619047619047616",
         "18.523809523809526",
         "10.390559119742386",
         "107.96371882086169"
        ],
        [
         "21",
         "24",
         "1",
         "0.045454545454545456",
         "18.772727272727273",
         "10.215548835795799",
         "104.35743801652892"
        ],
        [
         "22",
         "18",
         "1",
         "0.043478260869565216",
         "18.73913043478261",
         "9.992246521588834",
         "99.84499054820417"
        ],
        [
         "23",
         "27",
         "1",
         "0.041666666666666664",
         "19.083333333333332",
         "9.920167449303579",
         "98.40972222222227"
        ],
        [
         "24",
         "0",
         "1",
         "0.04",
         "18.32",
         "10.414297863994483",
         "108.45760000000006"
        ],
        [
         "25",
         "28",
         "1",
         "0.038461538461538464",
         "18.692307692307693",
         "10.380341000657966",
         "107.75147928994082"
        ],
        [
         "26",
         "23",
         "1",
         "0.037037037037037035",
         "18.85185185185185",
         "10.218732630353173",
         "104.4224965706447"
        ],
        [
         "27",
         "35",
         "1",
         "0.03571428571428571",
         "19.428571428571427",
         "10.472510176063574",
         "109.6734693877551"
        ],
        [
         "28",
         "34",
         "1",
         "0.034482758620689655",
         "19.93103448275862",
         "10.628300005118925",
         "112.96076099881093"
        ],
        [
         "29",
         "13",
         "1",
         "0.03333333333333333",
         "19.7",
         "10.523465842265717",
         "110.7433333333333"
        ],
        [
         "30",
         "22",
         "1",
         "0.03225806451612903",
         "19.774193548387096",
         "10.3603140985495",
         "107.33610822060353"
        ],
        [
         "31",
         "3",
         "1",
         "0.03125",
         "19.25",
         "10.606601717798213",
         "112.5"
        ],
        [
         "32",
         "33",
         "1",
         "0.030303030303030304",
         "19.666666666666668",
         "10.70730893579076",
         "114.64646464646464"
        ],
        [
         "33",
         "25",
         "1",
         "0.029411764705882353",
         "19.823529411764707",
         "10.587091441482473",
         "112.08650519031141"
        ],
        [
         "34",
         "21",
         "1",
         "0.02857142857142857",
         "19.857142857142858",
         "10.436591827775572",
         "108.92244897959185"
        ],
        [
         "35",
         "26",
         "1",
         "0.027777777777777776",
         "20.02777777777778",
         "10.340014267965417",
         "106.9158950617284"
        ],
        [
         "36",
         "23",
         "1",
         "0.02702702702702703",
         "20.10810810810811",
         "10.210709226455895",
         "104.25858290723156"
        ],
        [
         "37",
         "23",
         "1",
         "0.02631578947368421",
         "20.18421052631579",
         "10.086090638930987",
         "101.72922437673128"
        ],
        [
         "38",
         "33",
         "1",
         "0.02564102564102564",
         "20.512820512820515",
         "10.159930836812325",
         "103.22419460881001"
        ],
        [
         "39",
         "14",
         "1",
         "0.025",
         "20.35",
         "10.083526168954984",
         "101.6775"
        ],
        [
         "40",
         "30",
         "1",
         "0.024390243902439025",
         "20.585365853658537",
         "10.070424240236667",
         "101.41344437834624"
        ],
        [
         "41",
         "35",
         "1",
         "0.023809523809523808",
         "20.928571428571427",
         "10.189613893201107",
         "103.82823129251702"
        ],
        [
         "42",
         "33",
         "1",
         "0.023255813953488372",
         "21.209302325581394",
         "10.233456620173426",
         "104.7236343969713"
        ],
        [
         "43",
         "32",
         "1",
         "0.022727272727272728",
         "21.454545454545453",
         "10.243522444262801",
         "104.92975206611574"
        ],
        [
         "44",
         "32",
         "1",
         "0.022222222222222223",
         "21.68888888888889",
         "10.247649534778905",
         "105.0143209876543"
        ],
        [
         "45",
         "29",
         "1",
         "0.021739130434782608",
         "21.847826086956523",
         "10.191572373682833",
         "103.86814744801515"
        ],
        [
         "46",
         "36",
         "1",
         "0.02127659574468085",
         "22.148936170212767",
         "10.28731655228853",
         "105.82888184698957"
        ],
        [
         "47",
         "24",
         "1",
         "0.020833333333333332",
         "22.1875",
         "10.183025602278857",
         "103.69401041666667"
        ],
        [
         "48",
         "32",
         "1",
         "0.02040816326530612",
         "22.387755102040817",
         "10.173628025701111",
         "103.50270720533109"
        ],
        [
         "49",
         "29",
         "1",
         "0.02",
         "22.52",
         "10.113832112508096",
         "102.28959999999998"
        ]
       ],
       "shape": {
        "columns": 6,
        "rows": 10000
       }
      },
      "text/html": [
       "<div>\n",
       "<style scoped>\n",
       "    .dataframe tbody tr th:only-of-type {\n",
       "        vertical-align: middle;\n",
       "    }\n",
       "\n",
       "    .dataframe tbody tr th {\n",
       "        vertical-align: top;\n",
       "    }\n",
       "\n",
       "    .dataframe thead th {\n",
       "        text-align: right;\n",
       "    }\n",
       "</style>\n",
       "<table border=\"1\" class=\"dataframe\">\n",
       "  <thead>\n",
       "    <tr style=\"text-align: right;\">\n",
       "      <th></th>\n",
       "      <th>tiradas</th>\n",
       "      <th>frec_abs</th>\n",
       "      <th>frec_rel</th>\n",
       "      <th>esp_mat</th>\n",
       "      <th>desv_est</th>\n",
       "      <th>var</th>\n",
       "    </tr>\n",
       "  </thead>\n",
       "  <tbody>\n",
       "    <tr>\n",
       "      <th>0</th>\n",
       "      <td>30</td>\n",
       "      <td>0</td>\n",
       "      <td>0.000000</td>\n",
       "      <td>30.000000</td>\n",
       "      <td>0.000000</td>\n",
       "      <td>0.000000</td>\n",
       "    </tr>\n",
       "    <tr>\n",
       "      <th>1</th>\n",
       "      <td>7</td>\n",
       "      <td>0</td>\n",
       "      <td>0.000000</td>\n",
       "      <td>18.500000</td>\n",
       "      <td>11.500000</td>\n",
       "      <td>132.250000</td>\n",
       "    </tr>\n",
       "    <tr>\n",
       "      <th>2</th>\n",
       "      <td>28</td>\n",
       "      <td>0</td>\n",
       "      <td>0.000000</td>\n",
       "      <td>21.666667</td>\n",
       "      <td>10.402991</td>\n",
       "      <td>108.222222</td>\n",
       "    </tr>\n",
       "    <tr>\n",
       "      <th>3</th>\n",
       "      <td>29</td>\n",
       "      <td>0</td>\n",
       "      <td>0.000000</td>\n",
       "      <td>23.500000</td>\n",
       "      <td>9.552487</td>\n",
       "      <td>91.250000</td>\n",
       "    </tr>\n",
       "    <tr>\n",
       "      <th>4</th>\n",
       "      <td>5</td>\n",
       "      <td>0</td>\n",
       "      <td>0.000000</td>\n",
       "      <td>19.800000</td>\n",
       "      <td>11.303097</td>\n",
       "      <td>127.760000</td>\n",
       "    </tr>\n",
       "    <tr>\n",
       "      <th>...</th>\n",
       "      <td>...</td>\n",
       "      <td>...</td>\n",
       "      <td>...</td>\n",
       "      <td>...</td>\n",
       "      <td>...</td>\n",
       "      <td>...</td>\n",
       "    </tr>\n",
       "    <tr>\n",
       "      <th>9995</th>\n",
       "      <td>1</td>\n",
       "      <td>260</td>\n",
       "      <td>0.026010</td>\n",
       "      <td>18.143758</td>\n",
       "      <td>10.688430</td>\n",
       "      <td>114.242539</td>\n",
       "    </tr>\n",
       "    <tr>\n",
       "      <th>9996</th>\n",
       "      <td>13</td>\n",
       "      <td>260</td>\n",
       "      <td>0.026008</td>\n",
       "      <td>18.143243</td>\n",
       "      <td>10.688019</td>\n",
       "      <td>114.233758</td>\n",
       "    </tr>\n",
       "    <tr>\n",
       "      <th>9997</th>\n",
       "      <td>9</td>\n",
       "      <td>260</td>\n",
       "      <td>0.026005</td>\n",
       "      <td>18.142328</td>\n",
       "      <td>10.687876</td>\n",
       "      <td>114.230693</td>\n",
       "    </tr>\n",
       "    <tr>\n",
       "      <th>9998</th>\n",
       "      <td>8</td>\n",
       "      <td>260</td>\n",
       "      <td>0.026003</td>\n",
       "      <td>18.141314</td>\n",
       "      <td>10.687823</td>\n",
       "      <td>114.229555</td>\n",
       "    </tr>\n",
       "    <tr>\n",
       "      <th>9999</th>\n",
       "      <td>4</td>\n",
       "      <td>260</td>\n",
       "      <td>0.026000</td>\n",
       "      <td>18.139900</td>\n",
       "      <td>10.688224</td>\n",
       "      <td>114.238128</td>\n",
       "    </tr>\n",
       "  </tbody>\n",
       "</table>\n",
       "<p>10000 rows × 6 columns</p>\n",
       "</div>"
      ],
      "text/plain": [
       "      tiradas  frec_abs  frec_rel    esp_mat   desv_est         var\n",
       "0          30         0  0.000000  30.000000   0.000000    0.000000\n",
       "1           7         0  0.000000  18.500000  11.500000  132.250000\n",
       "2          28         0  0.000000  21.666667  10.402991  108.222222\n",
       "3          29         0  0.000000  23.500000   9.552487   91.250000\n",
       "4           5         0  0.000000  19.800000  11.303097  127.760000\n",
       "...       ...       ...       ...        ...        ...         ...\n",
       "9995        1       260  0.026010  18.143758  10.688430  114.242539\n",
       "9996       13       260  0.026008  18.143243  10.688019  114.233758\n",
       "9997        9       260  0.026005  18.142328  10.687876  114.230693\n",
       "9998        8       260  0.026003  18.141314  10.687823  114.229555\n",
       "9999        4       260  0.026000  18.139900  10.688224  114.238128\n",
       "\n",
       "[10000 rows x 6 columns]"
      ]
     },
     "execution_count": 49,
     "metadata": {},
     "output_type": "execute_result"
    }
   ],
   "source": [
    "df"
   ]
  },
  {
   "cell_type": "code",
   "execution_count": 50,
   "id": "18561811",
   "metadata": {},
   "outputs": [
    {
     "data": {
      "image/png": "[encoded data removed]",
      "text/plain": [
       "<Figure size 1000x400 with 1 Axes>"
      ]
     },
     "metadata": {},
     "output_type": "display_data"
    },
    {
     "data": {
      "image/png": "[encoded data removed]",
      "text/plain": [
       "<Figure size 1000x400 with 1 Axes>"
      ]
     },
     "metadata": {},
     "output_type": "display_data"
    },
    {
     "data": {
      "image/png": "[encoded data removed]",
      "text/plain": [
       "<Figure size 1000x400 with 1 Axes>"
      ]
     },
     "metadata": {},
     "output_type": "display_data"
    },
    {
     "data": {
      "image/png": "[encoded data removed]",
      "text/plain": [
       "<Figure size 1000x400 with 1 Axes>"
      ]
     },
     "metadata": {},
     "output_type": "display_data"
    },
    {
     "data": {
      "image/png": "[encoded data removed]",
      "text/plain": [
       "<Figure size 1000x400 with 1 Axes>"
      ]
     },
     "metadata": {},
     "output_type": "display_data"
    }
   ],
   "source": [
    "df.index = df.index + 1\n",
    "\n",
    "labels = {\n",
    "    'x_label_desvio': 'vd (valor del desvio)',\n",
    "    'y_label_desvio': 'n (numero tiradas)',\n",
    "    'x_label_varianza': 'vv (valor de la varianza)',\n",
    "    'y_label_varianza': 'n (numero tiradas)',\n",
    "    'x_label_frecuencia': 'fr (frecuencia relativa)',\n",
    "    'y_label_frecuencia': 'n (numero tiradas)',\n",
    "    'x_label_esperanza': 'vp (valor promedio de las tiradas)',\n",
    "    'y_label_esperanza': 'n (numero tiradas)',\n",
    "}\n",
    "\n",
    "titles = {\n",
    "    'title_desvio': 'DESVÍO ESTANDAR',\n",
    "    'title_varianza': 'VARIANZA',\n",
    "    'title_frecuencia': f'FRECUENCIA RELATIVA DEL NUMERO {numero_elegido}',\n",
    "    'title_esperanza': 'ESPERANZA MATEMATICA',\n",
    "}\n",
    "\n",
    "valores_esperados = {\n",
    "    'desvio': 'vde (valor del desvio esperado)',\n",
    "    'varianza': 'vve (valor de la varianza esperada)',\n",
    "    'frecuencia': 'frn (frecuencia relativa esperada)',\n",
    "    'esperanza': 'vpe (valor promedio esperado)',\n",
    "}\n",
    "\n",
    "col_to_keys = {\n",
    "    'desv_est': {\n",
    "        'title': titles['title_desvio'],\n",
    "        'xlabel': labels['x_label_desvio'],\n",
    "        'ylabel': labels['y_label_desvio'],\n",
    "        'esperado_label': valores_esperados['desvio']\n",
    "    },\n",
    "    'var': {\n",
    "        'title': titles['title_varianza'],\n",
    "        'xlabel': labels['x_label_varianza'],\n",
    "        'ylabel': labels['y_label_varianza'],\n",
    "        'esperado_label': valores_esperados['varianza']\n",
    "    },\n",
    "    'frec_rel': {\n",
    "        'title': titles['title_frecuencia'],\n",
    "        'xlabel': labels['x_label_frecuencia'],\n",
    "        'ylabel': labels['y_label_frecuencia'],\n",
    "        'esperado_label': valores_esperados['frecuencia']\n",
    "    },\n",
    "    'esp_mat': {\n",
    "        'title': titles['title_esperanza'],\n",
    "        'xlabel': labels['x_label_esperanza'],\n",
    "        'ylabel': labels['y_label_esperanza'],\n",
    "        'esperado_label': valores_esperados['esperanza']\n",
    "    }\n",
    "}\n",
    "\n",
    "lineas_horizontales = {\n",
    "    'desv_est': desviacion_estandar_esperada,\n",
    "    'var': varianza_esperada,\n",
    "    'esp_mat': esperanza_matematica_esperada,\n",
    "    'frec_rel': 1/37\n",
    "}\n",
    "\n",
    "columns_to_plot = df.columns.drop('tiradas')\n",
    "\n",
    "for col in columns_to_plot:\n",
    "    plt.figure(figsize=(10, 4))\n",
    "    sns.lineplot(x=df.index, y=df[col], label=col)\n",
    "\n",
    "    title = col_to_keys.get(col, {}).get('title', col)\n",
    "    xlabel = col_to_keys.get(col, {}).get('xlabel', 'Índice')\n",
    "    ylabel = col_to_keys.get(col, {}).get('ylabel', col)\n",
    "    valor_esperado_label = col_to_keys.get(col, {}).get('esperado_label', None)\n",
    "\n",
    "    if col in lineas_horizontales:\n",
    "        valor_esperado = lineas_horizontales[col]\n",
    "        plt.axhline(valor_esperado, color='red', linestyle='--', label=f'{valor_esperado_label} = {valor_esperado:.4f}')\n",
    "\n",
    "    plt.title(title)\n",
    "    plt.xlabel(xlabel)\n",
    "    plt.ylabel(ylabel)\n",
    "    plt.legend()\n",
    "    plt.grid(True)\n",
    "    plt.tight_layout()\n",
    "    plt.show()\n",
    "\n",
    "\n"
   ]
  },
  {
   "cell_type": "code",
   "execution_count": null,
   "id": "062427a5",
   "metadata": {},
   "outputs": [],
   "source": []
  }
 ],
 "metadata": {
  "kernelspec": {
   "display_name": "base",
   "language": "python",
   "name": "python3"
  },
  "language_info": {
   "codemirror_mode": {
    "name": "ipython",
    "version": 3
   },
   "file_extension": ".py",
   "mimetype": "text/x-python",
   "name": "python",
   "nbconvert_exporter": "python",
   "pygments_lexer": "ipython3",
   "version": "3.12.4"
  }
 },
 "nbformat": 4,
 "nbformat_minor": 5
}
